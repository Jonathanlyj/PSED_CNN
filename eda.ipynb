{
 "cells": [
  {
   "cell_type": "code",
   "execution_count": null,
   "metadata": {},
   "outputs": [],
   "source": [
    "import pandas as pd\n",
    "import numpy as np\n",
    "import matplotlib.pyplot as plt\n",
    "\n"
   ]
  },
  {
   "cell_type": "code",
   "execution_count": null,
   "metadata": {},
   "outputs": [],
   "source": [
    "df_iso1 = pd.read_csv('/data/yll6162/mof_cnn/PSED_data/extracted_cm3_per_cm3_values_part1.csv')\n",
    "df_iso2 = pd.read_csv('/data/yll6162/mof_cnn/PSED_data/extracted_cm3_per_cm3_values_part2.csv')\n",
    "df_iso3 = pd.read_csv('/data/yll6162/mof_cnn/PSED_data/extracted_cm3_per_cm3_values_part3.csv')\n",
    "df_iso = pd.concat([df_iso1, df_iso2, df_iso3], ignore_index=True)\n",
    "df_iso"
   ]
  },
  {
   "cell_type": "code",
   "execution_count": null,
   "metadata": {},
   "outputs": [],
   "source": [
    "df_iso['database'] = df_iso['project'].apply(lambda x: 'qmof' if x.startswith('qmof') else 'ToBaCCo')"
   ]
  },
  {
   "cell_type": "code",
   "execution_count": null,
   "metadata": {},
   "outputs": [],
   "source": [
    "df_iso['Xe_cm3_per_cm3_value'].describe()"
   ]
  },
  {
   "cell_type": "code",
   "execution_count": null,
   "metadata": {},
   "outputs": [],
   "source": [
    "# Overlay histogram using pandas\n",
    "min_value = df_iso['Xe_cm3_per_cm3_value'].min()\n",
    "max_value = df_iso['Xe_cm3_per_cm3_value'].max()\n",
    "# bin_edges = np.linspace(min_value, max_value, 10)\n",
    "bin_edges = np.linspace(0, 200, 11)\n",
    "# bar_width = 0.8 * (bin_edges[1] - bin_edges[0])\n",
    "bar_width = 1 * (bin_edges[1] - bin_edges[0])\n",
    "df_iso.groupby('database')['Xe_cm3_per_cm3_value'].plot(kind='hist', bins=bin_edges, alpha=0.8, legend=True, width=bar_width, edgecolor='grey')\n",
    "plt.grid(True)\n",
    "plt.xlabel('Xe_cm3_per_cm3_value')\n",
    "plt.ylabel('Frequency')\n",
    "plt.title('Isotherms histogram grouped by database')\n",
    "plt.xticks(bin_edges)\n",
    "plt.show()"
   ]
  },
  {
   "cell_type": "code",
   "execution_count": null,
   "metadata": {},
   "outputs": [],
   "source": [
    "import os\n",
    "\n",
    "# Define the top-level directory\n",
    "base_dir = \"/data/yll6162/mof_cnn/PSED_data/New_Parsed\" ## REPLACE WITH YOUR DIRECTORY\n",
    "\n",
    "# Define the relative subdirectory and file names to check\n",
    "subdir = \"ASCI_Grids\"\n",
    "file_names = [\"energy_grid.txt\"]\n",
    "abnormal_files = []\n",
    "empty_files = []\n",
    "# Loop through all subdirectories under the base directory\n",
    "for folder in os.listdir(base_dir):\n",
    "    folder_path = os.path.join(base_dir, folder)\n",
    "    \n",
    "    # Ensure it is a directory\n",
    "    if os.path.isdir(folder_path):\n",
    "        asci_grids_path = os.path.join(folder_path, subdir)\n",
    "        \n",
    "        # Ensure the ASCI_Grids subdirectory exists\n",
    "        if os.path.exists(asci_grids_path):\n",
    "            print(f\"\\nProcessing ASCI_Grids in folder: {folder}\")\n",
    "            \n",
    "            # Check for each required file\n",
    "            for file_name in file_names:\n",
    "                file_path = os.path.join(asci_grids_path, file_name)\n",
    "                \n",
    "                # Verify the file exists\n",
    "                if os.path.exists(file_path):\n",
    "                    print(f\"\\nReading file: {file_name} in folder {folder}\")\n",
    "                    try:\n",
    "                        # Open and print each line of the file\n",
    "                        total_count = 0\n",
    "\n",
    "                        with open(file_path, 'r') as file:\n",
    "                            lines = file.readlines()\n",
    "                            if len(lines) != 68921:\n",
    "                                if len(lines) == 0:\n",
    "                                    empty_files.append(asci_grids_path)\n",
    "\n",
    "                                print(f\"Error: {file_name} in folder {folder} has {len(lines)} lines\")\n",
    "                                abnormal_files.append(asci_grids_path)\n",
    "                                break\n",
    "                    except Exception as e:\n",
    "                        print(f\"Error reading {file_name} in folder {folder}: {e}\")\n",
    "                else:\n",
    "                    print(f\"{file_name} does not exist in folder: {folder}\")\n",
    "        else:\n",
    "            print(f\"ASCI_Grids subdirectory does not exist in folder: {folder}\")"
   ]
  },
  {
   "cell_type": "code",
   "execution_count": null,
   "metadata": {},
   "outputs": [],
   "source": [
    "len(abnormal_files),len(empty_files)"
   ]
  },
  {
   "cell_type": "code",
   "execution_count": null,
   "metadata": {},
   "outputs": [],
   "source": [
    "import numpy as np\n",
    "mof_name = 'f1_uko_26_1x1x1'    \n",
    "with open(f\"/data/yll6162/mof_cnn/PSED_data/New_Parsed/{mof_name}/ASCI_Grids//energy_grid.txt\", \"r\") as file:\n",
    "    lines = file.readlines()  # Each line is stored as an element in the list\n",
    "\n",
    "# Step 1: Convert list to NumPy array\n",
    "data_array = np.array(lines, dtype=object)\n",
    "\n",
    "\n",
    "# Step 2: Convert all valid numeric values to float while ignoring '?' entries\n",
    "numeric_array = np.where(data_array != '?\\n', data_array, 0).astype(float)\n",
    "\n",
    "# Step 3: Find the maximum value, ignoring NaNs\n",
    "original_max = np.nanmax(numeric_array)\n",
    "\n",
    "# Step 4: Replace '?' with the original maximum value\n",
    "cleaned_data = np.where(data_array == '?\\n', original_max, data_array).astype(float)\n",
    "\n",
    "size = 41\n",
    "reshaped_array = cleaned_data.reshape((size, size, size))\n",
    "assert np.isnan(reshaped_array).sum()==0"
   ]
  },
  {
   "cell_type": "code",
   "execution_count": null,
   "metadata": {},
   "outputs": [],
   "source": [
    "X = np.load(f'/data/yll6162/data/train/clean.npy', mmap_mode='r')\n",
    "X.shape\n",
    "sample = X[50]\n"
   ]
  },
  {
   "cell_type": "code",
   "execution_count": null,
   "metadata": {},
   "outputs": [],
   "source": [
    "# Calculate histogram, max, and min\n",
    "#  = sample\n",
    "hist, bin_edges = np.histogram(array_3d, bins=20)  # Histogram with 20 bins\n",
    "array_max = np.max(array_3d)  # Maximum value\n",
    "array_min = np.min(array_3d)  # Minimum value\n",
    "\n",
    "# Print the results\n",
    "print(\"Maximum Value:\", array_max)\n",
    "print(\"Minimum Value:\", array_min)\n",
    "print(\"Histogram Bin Counts:\", hist)\n",
    "print(\"Histogram Bin Edges:\", bin_edges)\n",
    "\n",
    "# Display histogram\n",
    "plt.figure(figsize=(10, 6))\n",
    "plt.hist(array_3d.flatten(), bins=20, color='blue', alpha=0.7)\n",
    "plt.title('Histogram of 3D Array Values')\n",
    "plt.xlabel('Value')\n",
    "plt.ylabel('Frequency')\n",
    "plt.grid(True)\n",
    "plt.show()"
   ]
  },
  {
   "cell_type": "code",
   "execution_count": null,
   "metadata": {},
   "outputs": [],
   "source": [
    "import plotly.graph_objects as go\n",
    "import numpy as np\n",
    "\n",
    "# Example 3D array\n",
    "# array_3d = np.random.rand(10, 10, 10)\n",
    "array_3d = reshaped_array\n",
    "capped_max = np.percentile(array_3d, 98)\n",
    "array_3d = np.clip(array_3d, None, capped_max)\n",
    "\n",
    "# array_3d = sample\n",
    "# Coordinates for the 3D volume\n",
    "x = np.linspace(0, 40, array_3d.shape[0])\n",
    "y = np.linspace(0, 40, array_3d.shape[1])\n",
    "z = np.linspace(0, 40, array_3d.shape[2])\n",
    "X, Y, Z = np.meshgrid(x, y, z, indexing=\"ij\")\n",
    "\n",
    "\n",
    "data_min = np.min(array_3d)\n",
    "data_max = np.max(array_3d)\n",
    "custom_colorscale = [\n",
    "    [0, \"blue\"],              \n",
    "    [(0 - data_min) / (data_max - data_min), \"white\"],  # Map 0.0 to white\n",
    "    [1, \"red\"]                \n",
    "]\n",
    "\n",
    "\n",
    "# Create a 3D volume rendering\n",
    "fig = go.Figure(data=go.Volume(\n",
    "    x=X.flatten(),\n",
    "    y=Y.flatten(),\n",
    "    z=Z.flatten(),\n",
    "    value=array_3d.flatten(),\n",
    "    isomin=np.min(array_3d),\n",
    "    isomax=np.max(array_3d),\n",
    "    opacity=0.2,  # Adjust opacity\n",
    "    colorscale=custom_colorscale,\n",
    "    surface_count=15  # Number of surfaces\n",
    "))\n",
    "\n",
    "# Update layout for larger display\n",
    "fig.update_layout(\n",
    "    scene=dict(\n",
    "        xaxis=dict(range=[0, 40]),\n",
    "        yaxis=dict(range=[0, 40]),\n",
    "        zaxis=dict(range=[0, 40]),\n",
    "        aspectratio=dict(x=1, y=1, z=1)  # Keep aspect ratio consistent\n",
    "    ),\n",
    "    width=1000,  # Set figure width\n",
    "    height=1000,  # Set figure height\n",
    "    title_text ='MOF-f1_uko_26_1x1x1'  \n",
    ")\n",
    "\n",
    "fig.show()"
   ]
  },
  {
   "cell_type": "code",
   "execution_count": null,
   "metadata": {},
   "outputs": [],
   "source": [
    "\n"
   ]
  }
 ],
 "metadata": {
  "kernelspec": {
   "display_name": "mof_cnn",
   "language": "python",
   "name": "python3"
  },
  "language_info": {
   "codemirror_mode": {
    "name": "ipython",
    "version": 3
   },
   "file_extension": ".py",
   "mimetype": "text/x-python",
   "name": "python",
   "nbconvert_exporter": "python",
   "pygments_lexer": "ipython3",
   "version": "3.11.10"
  }
 },
 "nbformat": 4,
 "nbformat_minor": 2
}
